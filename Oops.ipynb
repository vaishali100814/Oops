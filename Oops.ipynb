{
  "nbformat": 4,
  "nbformat_minor": 0,
  "metadata": {
    "colab": {
      "provenance": []
    },
    "kernelspec": {
      "name": "python3",
      "display_name": "Python 3"
    },
    "language_info": {
      "name": "python"
    }
  },
  "cells": [
    {
      "cell_type": "markdown",
      "source": [
        "1. What is Object-Oriented Programming (OOP)?\n",
        "   - Object-oriented programming (OOP) is a programming paradigm that uses \"objects\" and their interactions to design applications and computer programs. It's a way of structuring code by grouping data and methods into reusable, self-contained units called objects, which can then be used to create instances of a class.\n",
        "2. What is a class in OOP?\n",
        "   - In Object-Oriented Programming (OOP), a class is a user-defined data type that serves as a blueprint for creating objects. It defines the structure (data members) and behavior (member functions or methods) that objects of that class will have. Think of it as a template that specifies what an object will be like.\n",
        "3. What is an object in OOP?\n",
        "   - In Object-Oriented Programming (OOP), an object is a fundamental unit that represents a real-world entity or concept. It's an instance of a class, containing both data (attributes) and code (methods) that define its state and behavior. Objects interact with each other through methods, enabling them to manipulate their own data and respond to other objects.\n",
        "4. What is the difference between abstraction and encapsulation?\n",
        "   - Abstraction focuses on hiding complex implementation details and showing only the essential features to the user, simplifying interactions. Encapsulation bundles data and methods within a single unit, like a class, and controls access to protect the data. In essence, abstraction simplifies the user's view, while encapsulation ensures data is well-organized and secure.\n",
        "5. What are dunder methods in Python?\n",
        "   - Dunder methods, also known as magic methods, are special methods in Python that begin and end with double underscores (e.g., __init__, __str__, __len__). They provide a way to define how objects of a class should behave with built-in operators and functions. Dunder is short for \"double underscore.\"\n",
        "6. Explain the concept of inheritance in OOP.\n",
        "   - Inheritance in Object-Oriented Programming (OOP) is a mechanism where a new class (child class or derived class) inherits attributes and methods from an existing class (parent class or base class). This allows for code reusability and promotes a hierarchical class structure. Essentially, a child class \"is a\" version of its parent class.\n",
        "7. What is polymorphism in OOP?\n",
        "   - In Object-Oriented Programming (OOP), polymorphism means \"many forms.\" It allows objects of different classes to be treated as objects of a common superclass, enabling code reuse and flexibility. This is achieved through techniques like method overriding and overloading, allowing the same method name to be used with different implementations across various classes.\n",
        "8. How is encapsulation achieved in Python?\n",
        "   - Encapsulation in Python is achieved through conventions using access modifiers, primarily public and private. While Python doesn't enforce strict access control like some other languages, it relies on naming conventions to indicate the intended visibility of attributes and methods.\n",
        "9. What is a constructor in Python?\n",
        "   - A constructor in Python is a special method within a class that initializes the attributes of an object when the object is created. It is automatically called when an object of the class is instantiated. The constructor method is named __init__(self, ...), where self refers to the instance of the object being created, and any additional parameters allow for initializing the object with specific values.\n",
        "10. What are class and static methods in Python?\n",
        "   - Class methods and static methods are special types of methods in Python classes that differ from regular instance methods in how they are called and how they access class attributes.Static methods are not bound to the class or the instance. They are essentially regular functions that are defined within the class namespace. Static methods do not have access to the self or cls arguments.\n",
        "11. What is method overloading in Python?\n",
        "   - Method overloading in Python refers to the possibility of defining multiple methods with the same name within a class, as long as their signatures (number and/or type of arguments) are different. However, Python doesn't support method overloading in the same way as some other languages.\n",
        "12. What is method overriding in OOP?\n",
        "   - Method overriding in object-oriented programming (OOP) is a mechanism where a subclass provides a specific implementation for a method that is already defined in its superclass. This allows the subclass to modify or extend the behavior of the inherited method, while still maintaining the same method name and signature.\n",
        "13. What is a property decorator in Python?\n",
        "   - In Python, a property decorator is a built-in feature that allows methods to be accessed like attributes. It provides a way to encapsulate the logic for getting, setting, and deleting an attribute within a class, while still allowing access to it using the more concise attribute syntax.\n",
        "14. Why is polymorphism important in OOP?\n",
        "   - Polymorphism is crucial in Object-Oriented Programming (OOP) because it enables code reuse, flexibility, and extensibility. It allows objects of different classes to be treated as objects of a common type, simplifying code and making it easier to adapt to new situations.\n",
        "15. What is an abstract class in Python?\n",
        "   - An abstract class in Python is a class that cannot be instantiated directly and is designed to be subclassed by other classes. It serves as a blueprint for creating concrete classes, defining methods that subclasses must implement. Abstract classes are defined using the abc module and the ABC class as a metaclass.\n",
        "16. What are the advantages of OOP?\n",
        "   - Object-oriented programming (OOP) offers numerous advantages that make it a popular choice for software development. These benefits include improved code organization, reusability, and maintainability, as well as enhanced security and scalability. OOP promotes a modular and structured approach to problem-solving, making it easier to debug, modify, and extend software.\n",
        "17. What is the difference between a class variable and an instance variable?\n",
        "   - In object-oriented programming, a class variable (also known as a static variable) is shared by all instances (objects) of a class, while an instance variable is unique to each instance.\n",
        "18. What is multiple inheritance in Python?\n",
        "   - Multiple inheritance in Python is a feature that allows a class to inherit attributes and methods from more than one parent class. This means that a class can inherit and combine functionalities from different classes, creating a more flexible and reusable code structure.\n",
        "19. Explain the purpose of ‘’__str__’ and ‘__repr__’ ‘ methods in Python.\n",
        "   - In Python, the __str__ and __repr__ methods are special methods used to define how objects are represented as strings. They serve different purposes and are used in different contexts.This method is intended to return a user-friendly, informal string representation of an object. It is called by the built-in str() function and implicitly by the print() function. The output of __str__ should be easily readable and understandable for end-users.This method is intended to return a more technical, unambiguous string representation of an object. It is called by the built-in repr() function and is used for debugging, logging, and object inspection. Ideally, the output of __repr__ should be a string that can be used to recreate the object, or at least provide detailed information about its state.\n",
        "20. What is the significance of the ‘super()’ function in Python?\n",
        "    - The super() function in Python is used to call methods from a parent class within a subclass. This is particularly useful in the context of inheritance, allowing subclasses to extend or modify the behavior of their parent classes while still utilizing the parent class's functionality. It promotes code reusability and maintainability.\n",
        "21. What is the significance of the __del__ method in Python?\n",
        "    - The __del__ method in Python, also known as a destructor, is a special method called when an object is about to be destroyed. It provides an opportunity to perform cleanup actions, such as releasing external resources or finalizing operations before the object is removed from memory.\n",
        "22. What is the difference between @staticmethod and @classmethod in Python?\n",
        "    - The core difference between @staticmethod and @classmethod in Python lies in their interaction with the class and its instances. Static method this decorator creates a method that is bound to the class but does not receive the class or instance as an argument. It behaves like a regular function defined within the class's scope. It cannot access or modify class-specific or instance-specific attributes directly. Class method this decorator defines a method that receives the class itself as the first argument, conventionally named cls. It can access and modify class-level attributes but cannot directly access instance-level attributes.\n",
        "23. How does polymorphism work in Python with inheritance?\n",
        "    - Polymorphism, meaning \"many forms,\" enables objects of different classes to respond to the same method call in their own specific ways. In Python, inheritance facilitates polymorphism through method overriding. When a subclass inherits from a superclass, it can redefine methods of the superclass, providing its own implementation. This allows objects of different classes within the same inheritance hierarchy to be treated generically while still executing their specific versions of the method.\n",
        "24. What is method chaining in Python OOP?\n",
        "    - Method chaining in Python is a programming technique used in object-oriented programming where multiple methods are called sequentially on the same object in a single line of code. This is achieved by having each method in the chain return the object instance (self) after performing its operation. This allows subsequent methods to be called immediately on the returned object, creating a \"chain\" of method calls.\n",
        "25. What is the purpose of the __call__ method in Python?\n",
        "    - The __call__ method in Python enables instances of a class to be called like regular functions. When a class defines the __call__ method, its instances become callable objects. This means that you can apply the function call syntax () directly to an object of that class.            \n",
        "\n",
        "\n"
      ],
      "metadata": {
        "id": "i3rZWwqN6vP5"
      }
    },
    {
      "cell_type": "code",
      "execution_count": 1,
      "metadata": {
        "colab": {
          "base_uri": "https://localhost:8080/"
        },
        "id": "hLOnfJoa6t1R",
        "outputId": "c0c22b3e-b296-49ff-c6af-8b07ebae18ab"
      },
      "outputs": [
        {
          "output_type": "stream",
          "name": "stdout",
          "text": [
            "Bark\n"
          ]
        }
      ],
      "source": [
        "# 1. Parent class Animal with a method speak() that prints a generic message. Dog overrides method.\n",
        "\n",
        "class Animal:\n",
        "  def speak(self):\n",
        "    print(\"Animal speaks\")\n",
        "\n",
        "class Dog(Animal):\n",
        "  def speak(self):\n",
        "    print(\"Bark\")\n",
        "\n",
        "d = Dog()\n",
        "d.speak()\n",
        "\n",
        "\n",
        "\n"
      ]
    },
    {
      "cell_type": "code",
      "source": [
        "# 2. Abstract class Shape with a method area(). Classes Circle and Rectangle method.\n",
        "\n",
        "from abc import ABC, abstractmethod\n",
        "import math\n",
        "\n",
        "class Shape(ABC):\n",
        "    @abstractmethod\n",
        "    def area(self):\n",
        "        pass\n",
        "\n",
        "class Circle(Shape):\n",
        "    def __init__(self, radius):\n",
        "        self.radius = radius\n",
        "\n",
        "    def area(self):\n",
        "        return math.pi * self.radius ** 2\n",
        "\n",
        "class Rectangle(Shape):\n",
        "    def __init__(self, length, breadth):\n",
        "        self.length = length\n",
        "        self.breadth = breadth\n",
        "\n",
        "    def area(self):\n",
        "        return self.length * self.breadth\n"
      ],
      "metadata": {
        "id": "iy1Cnc9sPjgR"
      },
      "execution_count": 6,
      "outputs": []
    },
    {
      "cell_type": "code",
      "source": [
        "# 3. Implement a multi-level inheritance scenario. Vehicle, Car,  ElectricCar.\n",
        "\n",
        "class Vehicle:\n",
        "    def __init__(self, type):\n",
        "        self.type = type\n",
        "\n",
        "class Car(Vehicle):\n",
        "    def __init__(self, type, model):\n",
        "        super().__init__(type)\n",
        "        self.model = model\n",
        "\n",
        "class ElectricCar(Car):\n",
        "    def __init__(self, type, model, battery):\n",
        "        super().__init__(type, model)\n",
        "        self.battery = battery\n"
      ],
      "metadata": {
        "id": "e1-1o-FIP1ue"
      },
      "execution_count": 7,
      "outputs": []
    },
    {
      "cell_type": "code",
      "source": [
        "# 4. Demonstrate polymorphism with base class Bird and derived classes.\n",
        "\n",
        "class Bird:\n",
        "    def fly(self):\n",
        "        print(\"Some birds can fly\")\n",
        "\n",
        "class Sparrow(Bird):\n",
        "    def fly(self):\n",
        "        print(\"Sparrow flies\")\n",
        "\n",
        "class Penguin(Bird):\n",
        "    def fly(self):\n",
        "        print(\"Penguins cannot fly\")\n"
      ],
      "metadata": {
        "id": "G5b-SbLUQgEn"
      },
      "execution_count": 8,
      "outputs": []
    },
    {
      "cell_type": "code",
      "source": [
        "# 5. Create a class BankAccount with private attributes. To deposit, withdraw, and check balance.\n",
        "\n",
        "class BankAccount:\n",
        "    def __init__(self, balance):\n",
        "        self.__balance = balance\n",
        "\n",
        "    def deposit(self, amount):\n",
        "        self.__balance += amount\n",
        "\n",
        "    def withdraw(self, amount):\n",
        "        if amount <= self.__balance:\n",
        "            self.__balance -= amount\n",
        "\n",
        "    def check_balance(self):\n",
        "        return self.__balance\n",
        "\n",
        "\n"
      ],
      "metadata": {
        "id": "9XarGHHGQvqh"
      },
      "execution_count": 9,
      "outputs": []
    },
    {
      "cell_type": "code",
      "source": [
        "# 6. Polymorphism using a method play(). Method overloading with play() in Instrument and derived classes.\n",
        "\n",
        "\n",
        "class Instrument:\n",
        "    def play(self):\n",
        "        print(\"Playing an instrument\")\n",
        "\n",
        "class Guitar(Instrument):\n",
        "    def play(self):\n",
        "        print(\"Strumming the guitar\")\n",
        "\n",
        "class Piano(Instrument):\n",
        "    def play(self):\n",
        "        print(\"Playing the piano\")\n"
      ],
      "metadata": {
        "id": "K72L7CjtRe8T"
      },
      "execution_count": 10,
      "outputs": []
    },
    {
      "cell_type": "code",
      "source": [
        "# 7. Class with class and static methods for math operations.\n",
        "\n",
        "class MathOperations:\n",
        "    @classmethod\n",
        "    def add_numbers(cls, a, b):\n",
        "        return a + b\n",
        "\n",
        "    @staticmethod\n",
        "    def subtract_numbers(a, b):\n",
        "        return a - b"
      ],
      "metadata": {
        "id": "vUuGim5BSMFA"
      },
      "execution_count": 11,
      "outputs": []
    },
    {
      "cell_type": "code",
      "source": [
        "# 8. Implement a class Person with a class method to count the total number of persons created.\n",
        "\n",
        "class Person:\n",
        "    count = 0\n",
        "\n",
        "    def __init__(self, name):\n",
        "        self.name = name\n",
        "        Person.count += 1\n",
        "\n",
        "    @classmethod\n",
        "    def get_count(cls):\n",
        "        return cls.count"
      ],
      "metadata": {
        "id": "ywDfJxNISVNT"
      },
      "execution_count": 12,
      "outputs": []
    },
    {
      "cell_type": "code",
      "source": [
        "# 9. class Fraction with attributes numerator and denominator. Override the str method.\n",
        "\n",
        "class Fraction:\n",
        "    def __init__(self, numerator, denominator):\n",
        "        self.numerator = numerator\n",
        "        self.denominator = denominator\n",
        "\n",
        "    def __str__(self):\n",
        "        return f\"{self.numerator}/{self.denominator}\""
      ],
      "metadata": {
        "id": "GGOvsGD_SgFO"
      },
      "execution_count": 13,
      "outputs": []
    },
    {
      "cell_type": "code",
      "source": [
        "# 10. Operator overloading in Vector class for addition.\n",
        "\n",
        "class Vector:\n",
        "    def __init__(self, x, y):\n",
        "        self.x = x\n",
        "        self.y = y\n",
        "\n",
        "    def __add__(self, other):\n",
        "        return Vector(self.x + other.x, self.y + other.y)\n",
        "\n",
        "    def __str__(self):\n",
        "        return f\"Vector({self.x}, {self.y})\"\n",
        "\n",
        "\n"
      ],
      "metadata": {
        "id": "nIhVn8JuS7Ki"
      },
      "execution_count": 14,
      "outputs": []
    },
    {
      "cell_type": "code",
      "source": [
        "# 11. Create a class Person with attributes name and age, method greet().\n",
        "\n",
        "class Person:\n",
        "    def __init__(self, name, age):\n",
        "        self.name = name\n",
        "        self.age = age\n",
        "\n",
        "    def greet(self):\n",
        "        print(f\"Hello, my name is {self.name} and I am {self.age} years old.\")\n",
        "    def speak(self):\n",
        "        print(\"Animal speaks\")\n",
        "\n",
        "class Dog(Animal):\n",
        "    def speak(self):\n",
        "        print(\"Bark\")\n",
        "\n",
        "d = Dog()\n",
        "\n"
      ],
      "metadata": {
        "id": "cBRJHP_kTEXA"
      },
      "execution_count": 15,
      "outputs": []
    },
    {
      "cell_type": "code",
      "source": [
        "# 12. Class Student with attributes name and grades, compute method average_grade().\n",
        "\n",
        "class Student:\n",
        "    def __init__(self, name, grades):\n",
        "        self.name = name\n",
        "        self.grades = grades\n",
        "\n",
        "    def average_grade(self):\n",
        "        return sum(self.grades) / len(self.grades)\n",
        "\n"
      ],
      "metadata": {
        "id": "q-f60zX9TnMa"
      },
      "execution_count": 16,
      "outputs": []
    },
    {
      "cell_type": "code",
      "source": [
        "# 13. class Rectangle with methods set_dimensions() to set the dimensions and area() to calculate area.\n",
        "\n",
        "class Rectangle:\n",
        "    def set_dimensions(self, length, width):\n",
        "        self.length = length\n",
        "        self.width = width\n",
        "\n",
        "    def area(self):\n",
        "        return self.length * self.width\n"
      ],
      "metadata": {
        "id": "0886MkT2UG0N"
      },
      "execution_count": 17,
      "outputs": []
    },
    {
      "cell_type": "code",
      "source": [
        "# 14. Class Employee with method to calculate salary, subclass Manager with bonus.\n",
        "\n",
        "class Employee:\n",
        "    def __init__(self, hours, rate):\n",
        "        self.hours = hours\n",
        "        self.rate = rate\n",
        "\n",
        "    def calculate_salary(self):\n",
        "        return self.hours * self.rate\n",
        "\n",
        "class Manager(Employee):\n",
        "    def __init__(self, hours, rate, bonus):\n",
        "        super().__init__(hours, rate)\n",
        "        self.bonus = bonus\n",
        "\n",
        "    def calculate_salary(self):\n",
        "        return super().calculate_salary() + self.bonus\n"
      ],
      "metadata": {
        "id": "LpPo1ZubUR7H"
      },
      "execution_count": 18,
      "outputs": []
    },
    {
      "cell_type": "code",
      "source": [
        "# 15. Class Product with attributes name, price, and quantity. Implement a method total_price().\n",
        "\n",
        "class Product:\n",
        "    def __init__(self, name, price, quantity):\n",
        "        self.name = name\n",
        "        self.price = price\n",
        "        self.quantity = quantity\n",
        "\n",
        "    def total_price(self):\n",
        "        return self.price * self.quantity\n"
      ],
      "metadata": {
        "id": "rf0jhQNLUfUj"
      },
      "execution_count": 19,
      "outputs": []
    },
    {
      "cell_type": "code",
      "source": [
        "# 16. Class Animal with an abstract method sound(). Create two derived classes Cow and Sheep.\n",
        "\n",
        "from abc import ABC, abstractmethod\n",
        "\n",
        "class Animal(ABC):\n",
        "    @abstractmethod\n",
        "    def sound(self):\n",
        "        pass\n",
        "\n",
        "class Cow(Animal):\n",
        "    def sound(self):\n",
        "        print(\"Moo\")\n",
        "\n",
        "class Sheep(Animal):\n",
        "    def sound(self):\n",
        "        print(\"Baa\")\n"
      ],
      "metadata": {
        "id": "CJE-6wXKUy_x"
      },
      "execution_count": 20,
      "outputs": []
    },
    {
      "cell_type": "code",
      "source": [
        "# 17. Class Book with attributes title, author, and year_published. Method to return book info.\n",
        "\n",
        "class Book:\n",
        "    def __init__(self, title, author, year_published):\n",
        "        self.title = title\n",
        "        self.author = author\n",
        "        self.year_published = year_published\n",
        "\n",
        "    def get_book_info(self):\n",
        "        return f\"{self.title} by {self.author}, published in {self.year_published}\"\n"
      ],
      "metadata": {
        "id": "YugTYE5EVH2f"
      },
      "execution_count": 21,
      "outputs": []
    },
    {
      "cell_type": "code",
      "source": [
        "# 18. Class House with attributes address and price, derived class Mansion adds attribute number_of_rooms.\n",
        "\n",
        "class House:\n",
        "    def __init__(self, address, price):\n",
        "        self.address = address\n",
        "        self.price = price\n",
        "\n",
        "class Mansion(House):\n",
        "    def __init__(self, address, price, number_of_rooms):\n",
        "        super().__init__(address, price)\n",
        "        self.number_of_rooms = number_of_rooms\n",
        "    def _init_(self, name, grades):\n",
        "        self.name = name\n",
        "        self.grades = grades\n",
        "\n",
        "    def average_grade(self):\n",
        "        return sum(self.grades) / len(self.grades)\n"
      ],
      "metadata": {
        "id": "osXEXbO8VkF7"
      },
      "execution_count": 23,
      "outputs": []
    },
    {
      "cell_type": "code",
      "source": [],
      "metadata": {
        "id": "F4ga0E-RWKWd"
      },
      "execution_count": null,
      "outputs": []
    }
  ]
}